{
 "cells": [
  {
   "cell_type": "code",
   "execution_count": 13,
   "metadata": {},
   "outputs": [
    {
     "name": "stdout",
     "output_type": "stream",
     "text": [
      "Mean: 50.303\n",
      "Variance: 19.588\n",
      "Standard Deviation: 4.426\n"
     ]
    }
   ],
   "source": [
    "### Calculate summary stats..\n",
    "\n",
    "from numpy.random import seed\n",
    "from numpy.random import randn\n",
    "from numpy import mean\n",
    "from numpy import var\n",
    "from numpy import std\n",
    "\n",
    "seed(1)\n",
    "data = 5*randn(100) + 50\n",
    "\n",
    "print(\"Mean: %.3f\" %mean(data))\n",
    "print(\"Variance: %.3f\" %var(data))\n",
    "print(\"Standard Deviation: %.3f\" %std(data))"
   ]
  },
  {
   "cell_type": "code",
   "execution_count": 19,
   "metadata": {},
   "outputs": [
    {
     "name": "stdout",
     "output_type": "stream",
     "text": [
      "Pearsons correlation: 0.888\n"
     ]
    }
   ],
   "source": [
    "\"\"\"Positive Correlation: Both variables change in the same direction.\n",
    "Neutral Correlation: No relationship in the change of the variables.\n",
    "Negative Correlation: Variables change in opposite directions.\"\"\"\n",
    "\n",
    "### calculate correlation coefficient\n",
    "from scipy.stats import pearsonr\n",
    "\n",
    "### seed random number generator\n",
    "seed(1)\n",
    "\n",
    "### prepare data\n",
    "data1 = 20*randn(1000)+100\n",
    "data2 = data1 + (10*randn(1000)+50)\n",
    "\n",
    "### calculate pearson's correlation\n",
    "corr, p = pearsonr(data1, data2)\n",
    "print(\"Pearsons correlation: %.3f\"% corr)"
   ]
  },
  {
   "cell_type": "code",
   "execution_count": 23,
   "metadata": {},
   "outputs": [
    {
     "name": "stdout",
     "output_type": "stream",
     "text": [
      "Statistics = -2.262\n",
      "Different distributions (reject H0)\n"
     ]
    }
   ],
   "source": [
    "### Statistical hypothesis test\n",
    "from scipy.stats import ttest_ind\n",
    "\n",
    "### seed the random number generator\n",
    "seed(1)\n",
    "\n",
    "### generate two independent sample \n",
    "data1 = 5*randn(100)+50\n",
    "data2 = 5*randn(100)+51\n",
    "\n",
    "### compare sample\n",
    "stat, p = ttest_ind(data1, data2)\n",
    "print(\"Statistics = %.3f\"% stat)\n",
    "\n",
    "### interpret\n",
    "alpha = 0.05\n",
    "if p>alpha:\n",
    "    print(\"Same distributions (fail to reject H0)\")\n",
    "else:\n",
    "    print(\"Different distributions (reject H0)\")"
   ]
  },
  {
   "cell_type": "code",
   "execution_count": 24,
   "metadata": {},
   "outputs": [
    {
     "name": "stdout",
     "output_type": "stream",
     "text": [
      "Lower = 0.816, Upper = 0.944\n"
     ]
    }
   ],
   "source": [
    "### Estimation statistics\n",
    "from statsmodels.stats.proportion import proportion_confint\n",
    "\n",
    "### calculate the interval\n",
    "lower, upper = proportion_confint(88, 100, 0.05)\n",
    "print(\"Lower = %.3f, Upper = %.3f\"%(lower, upper))\n"
   ]
  },
  {
   "cell_type": "code",
   "execution_count": 27,
   "metadata": {},
   "outputs": [
    {
     "name": "stdout",
     "output_type": "stream",
     "text": [
      "Statistics = 4296.000,  P = 0.043\n",
      "Different distribution (reject H0)\n"
     ]
    }
   ],
   "source": [
    "### Nonparametric statistics (not Gaussian distribution)\n",
    "from scipy.stats import mannwhitneyu\n",
    "\n",
    "### seed the random number generator\n",
    "seed(1)\n",
    "\n",
    "### generator two independent samples\n",
    "data1 = 50 + (randn(100)*10)\n",
    "data2 = 51 + (randn(100)*10)\n",
    "\n",
    "### compare samples\n",
    "stat, p = mannwhitneyu(data1, data2)\n",
    "print(\"Statistics = %.3f,  P = %.3f\" %(stat, p))\n",
    "\n",
    "### interpret \n",
    "alpha = 0.05\n",
    "if p>alpha:\n",
    "    print(\"Same distribution (fail to reject H0)\")\n",
    "else:\n",
    "    print(\"Different distribution (reject H0)\")\n",
    "    "
   ]
  },
  {
   "cell_type": "code",
   "execution_count": null,
   "metadata": {},
   "outputs": [],
   "source": []
  }
 ],
 "metadata": {
  "kernelspec": {
   "display_name": "Python 3",
   "language": "python",
   "name": "python3"
  },
  "language_info": {
   "codemirror_mode": {
    "name": "ipython",
    "version": 3
   },
   "file_extension": ".py",
   "mimetype": "text/x-python",
   "name": "python",
   "nbconvert_exporter": "python",
   "pygments_lexer": "ipython3",
   "version": "3.8.5"
  }
 },
 "nbformat": 4,
 "nbformat_minor": 4
}
