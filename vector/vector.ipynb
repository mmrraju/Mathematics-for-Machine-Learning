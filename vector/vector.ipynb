{
 "cells": [
  {
   "cell_type": "code",
   "execution_count": 91,
   "metadata": {},
   "outputs": [
    {
     "name": "stdout",
     "output_type": "stream",
     "text": [
      "[2.5, 3.5, 4.5]\n"
     ]
    }
   ],
   "source": [
    "import matplotlib.pyplot as plt\n",
    "import numpy as np\n",
    "import math\n",
    "import random\n",
    "import functools # import function tools working with reduce()\n",
    "\n",
    "### adding of vectors\n",
    "def vector_add(v, w):\n",
    "    return [v_i+w_i for v_i, w_i in zip(v, w)]\n",
    "\n",
    "### substruct of vectors\n",
    "def vector_subtract(v, w):\n",
    "    return [v_i - w_i for v_i, w_i in zip(v, w)]\n",
    "\n",
    "### componentwise sum a list of vectors vector_sum([, ,])\n",
    "def vector_sum(vectors):\n",
    "    result = vectors[0]\n",
    "    for vector in vectors[1:]:\n",
    "        result = vector_add(result, vector)\n",
    "    return result\n",
    "### multiply a vector by a scalar\n",
    "def scalar_multiply(c, v):\n",
    "    return [c*v_i for v_i in v]\n",
    "\n",
    "### componentwise means of a list of vectors\n",
    "def vector_mean(vectors):\n",
    "    n = len(vectors)\n",
    "    return scalar_multiply(1/n, vector_sum(vectors))\n",
    "\n",
    "### dot product (sum of the componentwise products)\n",
    "def dot(v, w):\n",
    "    return sum(v_i*w_i for v_i, w_i in zip(v, w))\n",
    "\n",
    "### compute a vector's sum of square\n",
    "def sum_of_squares(v):\n",
    "    return dot(v, v)\n",
    "\n",
    "### compute the magnitude(length) of vectors\n",
    "def magnitude(v):\n",
    "    return math.sqrt(sum_of_squares(v))\n",
    "\n",
    "def squared_distance(v, w):\n",
    "    return sum_of_squares(vector_subtract(v, w))\n",
    "\n",
    "### distance of two vector sqrt((x1-y1)^2+(x2-y2)^2)\n",
    "def distance(v, w):\n",
    "    return math.sqrt(squared_distance(v, w))\n",
    "\n"
   ]
  },
  {
   "cell_type": "code",
   "execution_count": 106,
   "metadata": {},
   "outputs": [
    {
     "name": "stdout",
     "output_type": "stream",
     "text": [
      "[ 85  75 130]\n",
      "Scalar product:  [400 500 600]\n",
      "Vector mean:  [28.33333333 25.         43.33333333]\n",
      "Dot product:  3200\n",
      "Sum of square:  7700\n",
      "Magnitude or length:  87.74964387392122\n",
      "Distance between two vector:  51.96152422706632\n"
     ]
    }
   ],
   "source": [
    "\"\"\"Using numpy package\"\"\"\n",
    "numpy_array_1 = np.array([40, 50, 60])\n",
    "numpy_array_2 = np.array([10, 20, 30])\n",
    "numpy_array_3 = np.array([35, 5, 40])\n",
    "\n",
    "print(sum([numpy_array_1, numpy_array_2, numpy_array_3]))\n",
    "\n",
    "### scalar multiply\n",
    "print(\"Scalar product: \",numpy_array_1 * 10)\n",
    "\n",
    "### vector mean\n",
    "print(\"Vector mean: \",np.mean([numpy_array_1, numpy_array_2, numpy_array_3], axis=0))\n",
    "\n",
    "### dot product\n",
    "print(\"Dot product: \",sum(numpy_array_1 * numpy_array_2))\n",
    "\n",
    "### sum of square \n",
    "print(\"Sum of square: \",sum(numpy_array_1 ** 2))\n",
    "\n",
    "### magnitude or length\n",
    "print(\"Magnitude or length: \",(sum(numpy_array_1 ** 2)) ** 0.5)\n",
    "\n",
    "### distance between two vector\n",
    "print(\"Distance between two vector: \",(sum((numpy_array_1 - numpy_array_2) ** 2)) ** 0.5)"
   ]
  },
  {
   "cell_type": "code",
   "execution_count": null,
   "metadata": {},
   "outputs": [],
   "source": []
  }
 ],
 "metadata": {
  "kernelspec": {
   "display_name": "Python 3",
   "language": "python",
   "name": "python3"
  },
  "language_info": {
   "codemirror_mode": {
    "name": "ipython",
    "version": 3
   },
   "file_extension": ".py",
   "mimetype": "text/x-python",
   "name": "python",
   "nbconvert_exporter": "python",
   "pygments_lexer": "ipython3",
   "version": "3.8.5"
  }
 },
 "nbformat": 4,
 "nbformat_minor": 4
}
